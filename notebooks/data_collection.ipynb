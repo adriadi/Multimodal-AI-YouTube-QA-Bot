{
 "cells": [
  {
   "cell_type": "markdown",
   "id": "f0156825",
   "metadata": {},
   "source": [
    "# Multimodal AI Youtube Chatbot\n",
    "This project builds a multimodal AI chatbot that can answer questions about YouTube videos using both speech and text input. It combines Whisper for transcription, a retrieval-augmented generation (RAG) pipeline for context-aware responses, and LangChain agents for orchestration. Users interact through a simple Gradio interface, making video content searchable, accessible, and easier to explore."
   ]
  },
  {
   "cell_type": "code",
   "execution_count": 42,
   "id": "fe15b8b6",
   "metadata": {},
   "outputs": [],
   "source": [
    "# add directory\n",
    "import sys\n",
    "sys.path.append(\"..\")  # Add parent directory to sys.path"
   ]
  },
  {
   "cell_type": "code",
   "execution_count": 43,
   "id": "cd5ec12f",
   "metadata": {},
   "outputs": [],
   "source": [
    "from dotenv import load_dotenv\n",
    "import os\n",
    "\n",
    "load_dotenv()\n",
    "api_key = os.getenv(\"OPENAI_API_KEY\")"
   ]
  },
  {
   "cell_type": "code",
   "execution_count": 44,
   "id": "3e18cf6b",
   "metadata": {},
   "outputs": [
    {
     "name": "stderr",
     "output_type": "stream",
     "text": [
      "/Users/adriannadziadyk/Multimodal-AI-YouTube-QA-Bot/.venv/lib/python3.9/site-packages/urllib3/__init__.py:35: NotOpenSSLWarning: urllib3 v2 only supports OpenSSL 1.1.1+, currently the 'ssl' module is compiled with 'LibreSSL 2.8.3'. See: https://github.com/urllib3/urllib3/issues/3020\n",
      "  warnings.warn(\n"
     ]
    },
    {
     "name": "stdout",
     "output_type": "stream",
     "text": [
      "[youtube] Extracting URL: https://www.youtube.com/watch?v=SN-vBnWj6e8\n",
      "[youtube] SN-vBnWj6e8: Downloading webpage\n",
      "[youtube] SN-vBnWj6e8: Downloading tv client config\n",
      "[youtube] SN-vBnWj6e8: Downloading tv player API JSON\n",
      "[youtube] SN-vBnWj6e8: Downloading ios player API JSON\n",
      "[youtube] SN-vBnWj6e8: Downloading m3u8 information\n",
      "[info] SN-vBnWj6e8: Downloading 1 format(s): 251\n",
      "[download] ../data/eleo_audio.mp3 has already been downloaded\n",
      "[ExtractAudio] Not converting audio ../data/eleo_audio.mp3; file is already in target format mp3\n"
     ]
    },
    {
     "data": {
      "text/plain": [
       "0"
      ]
     },
     "execution_count": 44,
     "metadata": {},
     "output_type": "execute_result"
    }
   ],
   "source": [
    "import os\n",
    "\n",
    "video_url = \"https://www.youtube.com/watch?v=SN-vBnWj6e8\"\n",
    "output_path = \"../data/eleo_audio.mp3\"\n",
    "\n",
    "os.system(f'yt-dlp -x --audio-format mp3 -o \"{output_path}\" {video_url}')\n"
   ]
  },
  {
   "cell_type": "code",
   "execution_count": 45,
   "id": "4766d87e",
   "metadata": {},
   "outputs": [
    {
     "name": "stdout",
     "output_type": "stream",
     "text": [
      "Audio file downloaded successfully: ../data/eleo_audio.mp3\n"
     ]
    }
   ],
   "source": [
    "# Check if the file was created successfully\n",
    "if os.path.exists(output_path):\n",
    "    print(f\"Audio file downloaded successfully: {output_path}\")\n",
    "else:\n",
    "    print(\"Failed to download the audio file.\")"
   ]
  },
  {
   "cell_type": "code",
   "execution_count": 46,
   "id": "588dc355",
   "metadata": {},
   "outputs": [],
   "source": [
    "# Install if not already installed\n",
    "#!pip install openai\n",
    "#!pip install python-dotenv\n",
    "#!pip install langchain"
   ]
  },
  {
   "cell_type": "markdown",
   "id": "dc9708f7",
   "metadata": {},
   "source": [
    "### Transcribe with Whisper\n",
    "As first it seemed smart to use youtube-transcript-api, but in this task we can rely on auto captions, when content is not fully in english. Hence Whisper will be a better choice."
   ]
  },
  {
   "cell_type": "code",
   "execution_count": 47,
   "id": "d36726c2",
   "metadata": {},
   "outputs": [
    {
     "name": "stdout",
     "output_type": "stream",
     "text": [
      "Hallo! Hi! Ich werde jetzt multitasken, ein sehr deutsches Wort. Also, ich werde jetzt mehrere Dinge gleichzeitig machen. Ich werde jetzt eure Fragen beantworten. Ihr habt mir nämlich sehr viele Fragen auf Instagram und hier auf dem YouTube-Kanal gestellt. Danke für die ganzen Fragen. Und die werde \n"
     ]
    }
   ],
   "source": [
    "from utils.whisper import transcribe_audio\n",
    "\n",
    "transcript_text = transcribe_audio(\n",
    "    file_path=\"../data/eleo_audio.mp3\",\n",
    "    save_path=\"../data/eleo_transcript.txt\"\n",
    ")\n",
    "\n",
    "print(transcript_text[:300])\n"
   ]
  },
  {
   "cell_type": "markdown",
   "id": "4a5c99a7",
   "metadata": {},
   "source": [
    "### Let's add meta data for the structure\n",
    "\n"
   ]
  },
  {
   "cell_type": "code",
   "execution_count": 52,
   "id": "4f29d49f",
   "metadata": {},
   "outputs": [
    {
     "name": "stdout",
     "output_type": "stream",
     "text": [
      "✅ Metadata:\n",
      "{'video_id': 'SN-vBnWj6e8', 'title': 'How to Learn German Fast & Enjoy the Process – Q&A with a Native Teacher', 'description': \"Let’s multitask: I answer your german learning questions – while baking cookies!\\n👉 Want to grow your German vocab? https://link.fluentu.com/eleos-corner-3\\n📬 Sign up for Eleo's Deutsch Post! bit.ly/3GhGxsi\\n🤝 Get in touch with other learners: https://www.instagram.com/eleos_corner/\\n\\n🤎 DANKE for supporting my work with a Coffee: https://buymeacoffee.com/eleoscorner \\n📺Watch this Video next: https://www.youtube.com/watch?v=es0iwHlAmR8\\n\\n💬 Lass uns in den Kommentaren austauschen!\\n👉 Hast du Lust, mich in einem Livestream zu treffen?\\n👉 Und hast du noch weitere Fragen?\\n\\n🥣 Das Rezept für die Müsli-Kekse\\n🍪 Zutaten: 150\\u202fg Müsli, 100\\u202fg Mehl, 2–3 EL Honig, 1 TL Zimt, 1 Prise Salz, 1 Ei, 4 EL Öl, Optional: 1–2 EL Zucker, Schokostückchen oder 1 EL Erdnussbutter \\n👉 So geht’s: Alles gut miteinander vermengen, kleine Häufchen auf ein Backblech setzen und bei 180\\u202f°C ca. 12–15 Minuten backen, bis die Kekse goldbraun sind. \\n\\nAbout:\\nIn this immersive German video, I answer your most frequently asked questions from Instagram and YouTube – about improving speaking skills, expanding vocabulary and understanding German culture (yes, we talk about small talk too 😉).\\nThis video is perfect for intermediate learners who want to practice listening comprehension, pick up natural vocabulary in context, and see how German sounds in everyday situations.\\n\\n\\n#Q&A #LearnGerman #GermanListening #GermanCulture #Germanvocab #Deutschlernen #ImmersiveGerman #howtolearngerman  #GermanPractice #ComprehensibleInput #EasyGerman #GermanWithContext #LanguageLearning \\u202a@EasyGerman\", 'channel': 'eleos corner | learn german', 'publish_date': '20250413', 'duration_sec': 1098, 'url': 'https://www.youtube.com/watch?v=SN-vBnWj6e8'}\n"
     ]
    }
   ],
   "source": [
    "from utils.metadata_extract import extract_youtube_metadata\n",
    "\n",
    "video_url = \"https://www.youtube.com/watch?v=SN-vBnWj6e8\"\n",
    "save_path = \"../data/eleo_metadata.json\"\n",
    "\n",
    "metadata = extract_youtube_metadata(video_url, save_path=save_path)\n",
    "\n",
    "print(\"✅ Metadata:\")\n",
    "print(metadata)\n"
   ]
  }
 ],
 "metadata": {
  "kernelspec": {
   "display_name": ".venv",
   "language": "python",
   "name": "python3"
  },
  "language_info": {
   "codemirror_mode": {
    "name": "ipython",
    "version": 3
   },
   "file_extension": ".py",
   "mimetype": "text/x-python",
   "name": "python",
   "nbconvert_exporter": "python",
   "pygments_lexer": "ipython3",
   "version": "3.9.6"
  }
 },
 "nbformat": 4,
 "nbformat_minor": 5
}
