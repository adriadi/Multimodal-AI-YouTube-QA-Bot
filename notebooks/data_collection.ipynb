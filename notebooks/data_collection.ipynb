{
 "cells": [
  {
   "cell_type": "markdown",
   "id": "f0156825",
   "metadata": {},
   "source": [
    "# Data Collection Pipeline: YouTube → Audio → Transcript\n",
    "This notebook downloads a YouTube video, extracts audio, and transcribes it using OpenAI Whisper."
   ]
  },
  {
   "cell_type": "code",
   "execution_count": 2,
   "id": "73c26867",
   "metadata": {},
   "outputs": [],
   "source": [
    "import sys\n",
    "sys.path.append('../')"
   ]
  },
  {
   "cell_type": "code",
   "execution_count": 3,
   "id": "70b5d18d",
   "metadata": {},
   "outputs": [
    {
     "name": "stderr",
     "output_type": "stream",
     "text": [
      "/Users/adriannadziadyk/Multimodal-AI-YouTube-QA-Bot/.venv/lib/python3.9/site-packages/urllib3/__init__.py:35: NotOpenSSLWarning: urllib3 v2 only supports OpenSSL 1.1.1+, currently the 'ssl' module is compiled with 'LibreSSL 2.8.3'. See: https://github.com/urllib3/urllib3/issues/3020\n",
      "  warnings.warn(\n"
     ]
    }
   ],
   "source": [
    "import yt_dlp\n",
    "import openai\n",
    "from pathlib import Path\n",
    "import json"
   ]
  },
  {
   "cell_type": "code",
   "execution_count": 4,
   "id": "cd5ec12f",
   "metadata": {},
   "outputs": [],
   "source": [
    "from dotenv import load_dotenv\n",
    "import os\n",
    "\n",
    "load_dotenv()\n",
    "api_key = os.getenv(\"OPENAI_API_KEY\")"
   ]
  },
  {
   "cell_type": "code",
   "execution_count": 5,
   "id": "3e18cf6b",
   "metadata": {},
   "outputs": [
    {
     "name": "stdout",
     "output_type": "stream",
     "text": [
      "[youtube] Extracting URL: https://www.youtube.com/watch?v=SN-vBnWj6e8\n",
      "[youtube] SN-vBnWj6e8: Downloading webpage\n",
      "[youtube] SN-vBnWj6e8: Downloading tv client config\n",
      "[youtube] SN-vBnWj6e8: Downloading tv player API JSON\n",
      "[youtube] SN-vBnWj6e8: Downloading ios player API JSON\n",
      "[youtube] SN-vBnWj6e8: Downloading m3u8 information\n",
      "[info] SN-vBnWj6e8: Downloading 1 format(s): 251\n",
      "[download] ../data/eleo_audio.mp3 has already been downloaded\n",
      "[ExtractAudio] Not converting audio ../data/eleo_audio.mp3; file is already in target format mp3\n",
      "\n"
     ]
    }
   ],
   "source": [
    "import subprocess\n",
    "\n",
    "video_url = \"https://www.youtube.com/watch?v=SN-vBnWj6e8\"\n",
    "output_path = \"../data/eleo_audio.mp3\"\n",
    "\n",
    "def download_audio(video_url, output_path):\n",
    "    try:\n",
    "        result = subprocess.run(\n",
    "            [\"yt-dlp\", \"-x\", \"--audio-format\", \"mp3\", \"-o\", output_path, video_url],\n",
    "            check=True,\n",
    "            capture_output=True,\n",
    "            text=True\n",
    "        )\n",
    "        print(result.stdout)\n",
    "    except subprocess.CalledProcessError as e:\n",
    "        print(\"Error during download:\", e.stderr)\n",
    "\n",
    "download_audio(video_url, output_path)\n"
   ]
  },
  {
   "cell_type": "code",
   "execution_count": 6,
   "id": "4766d87e",
   "metadata": {},
   "outputs": [
    {
     "name": "stdout",
     "output_type": "stream",
     "text": [
      "Audio file downloaded successfully: ../data/eleo_audio.mp3\n"
     ]
    }
   ],
   "source": [
    "# Check if the file was created successfully\n",
    "if os.path.exists(output_path):\n",
    "    print(f\"Audio file downloaded successfully: {output_path}\")\n",
    "else:\n",
    "    print(\"Failed to download the audio file.\")"
   ]
  },
  {
   "cell_type": "code",
   "execution_count": 7,
   "id": "588dc355",
   "metadata": {},
   "outputs": [],
   "source": [
    "# Install if not already installed\n",
    "#!pip install openai\n",
    "#!pip install python-dotenv\n",
    "#!pip install langchain"
   ]
  },
  {
   "cell_type": "markdown",
   "id": "dc9708f7",
   "metadata": {},
   "source": [
    "### Transcribe with Whisper\n",
    "As first it seemed smart to use youtube-transcript-api, but in this task we can rely on auto captions, when content is not fully in english. Hence Whisper will be a better choice."
   ]
  },
  {
   "cell_type": "code",
   "execution_count": 8,
   "id": "d36726c2",
   "metadata": {},
   "outputs": [
    {
     "name": "stdout",
     "output_type": "stream",
     "text": [
      "Hallo! Hi! Ich werde jetzt multitasken. Ein sehr deutsches Wort. Also, ich werde jetzt mehrere Dinge gleichzeitig machen. Ich werde jetzt eure Fragen beantworten. Ihr habt mir nämlich sehr viele Fragen auf Instagram und hier auf dem YouTube-Kanal gestellt. Danke für die ganzen Fragen. Und die werde \n",
      "Transcript word count: 1699\n"
     ]
    }
   ],
   "source": [
    "from utils.whisper import transcribe_audio\n",
    "\n",
    "transcript_text = transcribe_audio(\n",
    "    file_path=\"../data/eleo_audio.mp3\",\n",
    "    save_path=\"../data/eleo_transcript.txt\",\n",
    "    save_json=True\n",
    ")\n",
    "\n",
    "with open(\"../data/eleo_transcript.json\", \"w\", encoding=\"utf-8\") as f:\n",
    "    json.dump({\"transcript\": transcript_text}, f, indent=2)\n",
    "\n",
    "\n",
    "print(transcript_text[:300])\n",
    "\n",
    "print(\"Transcript word count:\", len(transcript_text.split()))\n",
    "\n"
   ]
  },
  {
   "cell_type": "markdown",
   "id": "4a5c99a7",
   "metadata": {},
   "source": [
    "### Let's add meta data for the structure\n",
    "\n"
   ]
  },
  {
   "cell_type": "code",
   "execution_count": 9,
   "id": "4f29d49f",
   "metadata": {},
   "outputs": [
    {
     "name": "stdout",
     "output_type": "stream",
     "text": [
      "Metadata saved to: ../data/eleo_audio_metadata.json\n"
     ]
    }
   ],
   "source": [
    "from utils.metadata_extract import extract_youtube_metadata\n",
    "import json\n",
    "from pathlib import Path\n",
    "\n",
    "# Define OUTPUT_DIR and audio_file\n",
    "OUTPUT_DIR = Path(\"../data\")\n",
    "audio_file = Path(\"../data/eleo_audio.mp3\")\n",
    "\n",
    "metadata = extract_youtube_metadata(video_url)\n",
    "metadata_output = OUTPUT_DIR / (audio_file.stem + \"_metadata.json\")\n",
    "metadata_output.write_text(json.dumps(metadata, indent=2), encoding=\"utf-8\")\n",
    "print(f\"Metadata saved to: {metadata_output}\")\n"
   ]
  }
 ],
 "metadata": {
  "kernelspec": {
   "display_name": ".venv",
   "language": "python",
   "name": "python3"
  },
  "language_info": {
   "codemirror_mode": {
    "name": "ipython",
    "version": 3
   },
   "file_extension": ".py",
   "mimetype": "text/x-python",
   "name": "python",
   "nbconvert_exporter": "python",
   "pygments_lexer": "ipython3",
   "version": "3.9.6"
  }
 },
 "nbformat": 4,
 "nbformat_minor": 5
}
