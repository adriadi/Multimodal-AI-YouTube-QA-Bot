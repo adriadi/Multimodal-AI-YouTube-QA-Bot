{
 "cells": [
  {
   "cell_type": "code",
   "execution_count": 1,
   "id": "cbb2284b",
   "metadata": {},
   "outputs": [],
   "source": [
    "# Install whisper if not already installed\n",
    "#!pip install -q openai-whisper"
   ]
  },
  {
   "cell_type": "markdown",
   "id": "a649056b",
   "metadata": {},
   "source": [
    "## Automated YouTube Video Processing\n",
    "This notebook now uses functionss from .py docs to: download, transcribe, chunk, enrich, embed, and save a YouTube video transcript."
   ]
  },
  {
   "cell_type": "code",
   "execution_count": 2,
   "id": "2f5c0048",
   "metadata": {},
   "outputs": [],
   "source": [
    "import sys\n",
    "sys.path.append('../')"
   ]
  },
  {
   "cell_type": "markdown",
   "id": "1a19d3ab",
   "metadata": {},
   "source": [
    "**Troubleshooting ImportError:**  \n",
    "If you see `ImportError: cannot import name 'transcribe_audio' from 'whisper'`,  \n",
    "make sure you are using the correct import.  \n",
    "You should use `import whisper` and then call `whisper.transcribe(...)`  \n",
    "or check the documentation for the correct function name."
   ]
  },
  {
   "cell_type": "code",
   "execution_count": 3,
   "id": "8e0dd885",
   "metadata": {},
   "outputs": [
    {
     "name": "stdout",
     "output_type": "stream",
     "text": [
      "[youtube] Extracting URL: https://www.youtube.com/watch?v=SN-vBnWj6e8\n",
      "[youtube] SN-vBnWj6e8: Downloading webpage\n",
      "[youtube] SN-vBnWj6e8: Downloading tv client config\n",
      "[youtube] SN-vBnWj6e8: Downloading tv player API JSON\n",
      "[youtube] SN-vBnWj6e8: Downloading ios player API JSON\n",
      "[youtube] SN-vBnWj6e8: Downloading m3u8 information\n",
      "[info] SN-vBnWj6e8: Downloading 1 format(s): 251\n",
      "[download] ../data/audio/SN-vBnWj6e8.mp3 has already been downloaded\n",
      "[ExtractAudio] Not converting audio ../data/audio/SN-vBnWj6e8.mp3; file is already in target format mp3\n",
      "\n"
     ]
    },
    {
     "name": "stderr",
     "output_type": "stream",
     "text": [
      "/Users/adriannadziadyk/Multimodal-AI-YouTube-QA-Bot/notebooks/../utils/embedding.py:15: LangChainDeprecationWarning: The class `OpenAIEmbeddings` was deprecated in LangChain 0.0.9 and will be removed in 1.0. An updated version of the class exists in the :class:`~langchain-openai package and should be used instead. To use it run `pip install -U :class:`~langchain-openai` and import as `from :class:`~langchain_openai import OpenAIEmbeddings``.\n",
      "  embedding_model = OpenAIEmbeddings(model=model)\n"
     ]
    },
    {
     "data": {
      "text/plain": [
       "'✅ Successfully processed and stored 26 documents.'"
      ]
     },
     "execution_count": 3,
     "metadata": {},
     "output_type": "execute_result"
    }
   ],
   "source": [
    "from video_pipeline import process_video\n",
    "\n",
    "# For single video processing - test\n",
    "process_video(\n",
    "    video_url=\"https://www.youtube.com/watch?v=SN-vBnWj6e8\",\n",
    "    audio_path=\"../data/audio/SN-vBnWj6e8.mp3\",\n",
    "    transcript_path = \"../data/transcripts/SN-vBnWj6e8.txt\",\n",
    "    vectorstore_path=\"../data/vectorstores/SN-vBnWj6e8_faiss\"\n",
    ")\n",
    "    "
   ]
  }
 ],
 "metadata": {
  "kernelspec": {
   "display_name": ".venv",
   "language": "python",
   "name": "python3"
  },
  "language_info": {
   "codemirror_mode": {
    "name": "ipython",
    "version": 3
   },
   "file_extension": ".py",
   "mimetype": "text/x-python",
   "name": "python",
   "nbconvert_exporter": "python",
   "pygments_lexer": "ipython3",
   "version": "3.13.5"
  }
 },
 "nbformat": 4,
 "nbformat_minor": 5
}
