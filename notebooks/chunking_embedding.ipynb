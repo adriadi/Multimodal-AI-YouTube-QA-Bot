{
 "cells": [
  {
   "cell_type": "markdown",
   "id": "a9361740",
   "metadata": {},
   "source": [
    "# Chunking and Embedding\n"
   ]
  },
  {
   "cell_type": "code",
   "execution_count": 56,
   "id": "c730c95d",
   "metadata": {},
   "outputs": [
    {
     "name": "stdout",
     "output_type": "stream",
     "text": [
      "✅ Created 26 chunks.\n"
     ]
    }
   ],
   "source": [
    "# split chunks for embedding\n",
    "\n",
    "from langchain.text_splitter import RecursiveCharacterTextSplitter\n",
    "\n",
    "with open(\"../data/eleo_transcript.txt\", \"r\") as f:\n",
    "    text = f.read()\n",
    "\n",
    "# split chunks\n",
    "splitter = RecursiveCharacterTextSplitter(chunk_size=500, chunk_overlap=100)\n",
    "chunks = splitter.split_text(text)\n",
    "\n",
    "# Define the video_id for metadata\n",
    "video_id = \"eleo_video_001\"\n",
    "\n",
    "# Add metadata\n",
    "chunk_docs = []\n",
    "for i, chunk in enumerate(chunks):\n",
    "    chunk_docs.append({\n",
    "        \"content\": chunk,\n",
    "        \"metadata\": {\n",
    "            \"video_id\": video_id,\n",
    "            \"chunk_index\": i,\n",
    "            \"source\": \"Eleo's Corner\"\n",
    "        }\n",
    "    })\n",
    "\n",
    "print(f\"✅ Created {len(chunks)} chunks.\")\n"
   ]
  },
  {
   "cell_type": "markdown",
   "id": "75305df8",
   "metadata": {},
   "source": [
    "### Save the chunks with metadata"
   ]
  },
  {
   "cell_type": "code",
   "execution_count": null,
   "id": "48ed3c40",
   "metadata": {},
   "outputs": [
    {
     "name": "stdout",
     "output_type": "stream",
     "text": [
      "✅ Chunks saved to ../data/chunks/eleo_chunks.json\n"
     ]
    }
   ],
   "source": [
    "import os\n",
    "import json\n",
    "\n",
    "# Save to chunks file\n",
    "os.makedirs(\"../data/chunks\", exist_ok=True)\n",
    "with open(\"../data/chunks/eleo_chunks_meta.json\", \"w\") as f:\n",
    "    json.dump(chunk_docs, f, indent=2)\n",
    "\n",
    "\n",
    "print(\"✅ Chunks saved to ../data/chunks/eleo_chunks.json\")\n"
   ]
  },
  {
   "cell_type": "code",
   "execution_count": 59,
   "id": "48827cff",
   "metadata": {},
   "outputs": [],
   "source": [
    "# Load transcript text for further chunking experiments\n",
    "with open(\"../data/eleo_transcript.txt\", \"r\") as f:\n",
    "    transcript_text = f.read()"
   ]
  }
 ],
 "metadata": {
  "kernelspec": {
   "display_name": ".venv",
   "language": "python",
   "name": "python3"
  },
  "language_info": {
   "codemirror_mode": {
    "name": "ipython",
    "version": 3
   },
   "file_extension": ".py",
   "mimetype": "text/x-python",
   "name": "python",
   "nbconvert_exporter": "python",
   "pygments_lexer": "ipython3",
   "version": "3.9.6"
  }
 },
 "nbformat": 4,
 "nbformat_minor": 5
}
